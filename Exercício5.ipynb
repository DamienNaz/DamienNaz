{
  "nbformat": 4,
  "nbformat_minor": 0,
  "metadata": {
    "colab": {
      "provenance": [],
      "include_colab_link": true
    },
    "kernelspec": {
      "name": "python3",
      "display_name": "Python 3"
    },
    "language_info": {
      "name": "python"
    }
  },
  "cells": [
    {
      "cell_type": "markdown",
      "metadata": {
        "id": "view-in-github",
        "colab_type": "text"
      },
      "source": [
        "<a href=\"https://colab.research.google.com/github/DamienNaz/DamienNaz/blob/main/Exerc%C3%ADcio5.ipynb\" target=\"_parent\"><img src=\"https://colab.research.google.com/assets/colab-badge.svg\" alt=\"Open In Colab\"/></a>"
      ]
    },
    {
      "cell_type": "markdown",
      "source": [
        "**Definição (Gradiente Descendente/Ascendente)**\n",
        "Seja $f(x)$ a função objetivo que você está procuranto maximizar (ou minimizar).\n",
        "* Encontre a primeira derivada da sua função objetivo, $f'(x)$.\n",
        "* Escolha um ponto inicial, $x_0$.\n",
        "* Escolha um parâmetro de controle pequeno, $\\alpha$ (em Machine Learning chamamos este parâmetro de \"learning rate\" para o algoritmo do gradiente descendente).\n",
        "* Use a iteração $x_{n+1} = x_n + \\alpha f'(x_n)$ se estiver maximizando. Use a iteração $x_{n+1} = x_n - \\alpha f'(x_n)$ se estiver minimizando\n",
        "* Itere (decida por uma boa condição de paragem)"
      ],
      "metadata": {
        "id": "Z8sWUHer5stp"
      }
    },
    {
      "cell_type": "markdown",
      "source": [
        "**Exercício 1**: Implemente o algoritmo do Gradiente Descendente. Use o código para comparar com a solução do problema da caixa com volume máximo."
      ],
      "metadata": {
        "id": "nB9fhc4z5n7Y"
      }
    },
    {
      "cell_type": "markdown",
      "source": [
        "**Definição (Monte-Carlo)**\n",
        "Seja $f(x)$ a função objetivo que você está tentando maximizar (ou minimizar)\n",
        "* Escolha muitos (talvez milhares) de valores diferentes para $x$.\n",
        "* Encontre o valor da função objetivo em cada um desses valores (use listas, não loops)\n",
        "* Guarde o $x$ com maior $f(x)$ (ou menor, se estiver minimizando).\n",
        "* Itere várias vezes e compare os valores entre as iterações."
      ],
      "metadata": {
        "id": "RmGQX0if5vvs"
      }
    },
    {
      "cell_type": "markdown",
      "source": [
        "**Exercício 2**: Implemente o algoritmo de Monte-Carlo. Use o código para comparar com a solução do problema da caixa com volume máximo."
      ],
      "metadata": {
        "id": "VAEnjaEQ5yER"
      }
    },
    {
      "cell_type": "markdown",
      "source": [
        "**Definição: Otimização através da raíz**\n",
        "Seja $f(x)$ a função objetivo que está sendo maximizada (ou minimizada)\n",
        "* Encontre a derivada da função objetivo\n",
        "* Iguale a derivada a zero e use algum método numérico para encontrar o ponto crítico (como Newton).\n",
        "* Use o teorema do valor extremo para determinar se o ponto crítico ou um dos extremos do intervalo é o ponto máximo (ou mínimo)"
      ],
      "metadata": {
        "id": "W9Af4QVD54Zd"
      }
    },
    {
      "cell_type": "markdown",
      "source": [
        "**Exercício 3**: Implemente o algoritmo da otimização através da raíz. Use o código para comparar com a solução do problema da caixa com volume máximo."
      ],
      "metadata": {
        "id": "2hYAGzUH57is"
      }
    },
    {
      "cell_type": "markdown",
      "source": [
        "**Exercício 4**\n",
        "Escreva um algoritmo para generalizar o método do gradiente descendente/ascendente para funções com mais de uma variável."
      ],
      "metadata": {
        "id": "wPUifD8j6LKn"
      }
    },
    {
      "cell_type": "markdown",
      "source": [
        "**Exercício 5**\n",
        "Escreva um algoritmo para generalizar o método dde Monte-Carlo para funções com mais de uma variável."
      ],
      "metadata": {
        "id": "xhBKc93r6OIp"
      }
    },
    {
      "cell_type": "markdown",
      "source": [
        "**Definição Algoritmo do Gradiente Descendente**\n",
        "\n",
        "Queremos resolver o problema\n",
        "$$\\text{minimize } f(x_1, x_2, \\ldots, x_n) \\text{ subject to }(x_1, x_2, \\ldots, x_n) \\in S.$$\n",
        "\n",
        "a. Escolha um ponto inicial aleatório $\\boldsymbol{x}_0 = (x_1,x_2,\\ldots,x_n)\\in S$\n",
        "b. Vamos definir uma equação diferencial que fornece diferentes alternativas para o valor ótimo:\n",
        "\n",
        "$$\\boldsymbol{x}_{n+1} = \\boldsymbol{x}_n - \\alpha \\nabla f(\\boldsymbol{x}_n).$$\n",
        "\n",
        "c. Repita o processo iterativo até que os pontos das iterações estejam próximos o suficiente um do outro."
      ],
      "metadata": {
        "id": "1QPaEFEu6SQ_"
      }
    },
    {
      "cell_type": "markdown",
      "source": [
        "**Exercício 6**\n",
        "A função $f(x,y) = sen(x)cos(y)$ tem muitos extremos locais, o que torna a otimização um desafio. Implemente o código do gradiente descendente e aplique-o nesta função para encontrar o mínimo local $(-\\pi/2, 0)$. Comece em algum ponto próximo de $(-\\pi/2, 0)$ e mostre que o seu código pode não convergir para este mínimo local."
      ],
      "metadata": {
        "id": "SCFDnC2a6VKN"
      }
    },
    {
      "cell_type": "code",
      "execution_count": null,
      "metadata": {
        "id": "asr3SXjb5j-8"
      },
      "outputs": [],
      "source": []
    }
  ]
}